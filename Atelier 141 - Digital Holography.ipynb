{
 "cells": [
  {
   "cell_type": "markdown",
   "id": "259cbbc4",
   "metadata": {},
   "source": [
    "# <center>Digital Holography - A141 - Mifobio 2023"
   ]
  },
  {
   "cell_type": "markdown",
   "id": "548810ef",
   "metadata": {},
   "source": [
    "Welcome to workshop A141 on digital holography for label free imaging of biological tissues! This notebook will give you a grasp on how interferometry is used to measure the electrical field, and how to process this field to recover an image.\n",
    "\n",
    "For this notebook to work properly on your laptop, all you will need is:\n",
    "- a working Python installation. Use Anaconda if you've never done it before.\n",
    "- Jupyter notebook installed\n",
    "- Numpy and Matplotlib installed."
   ]
  },
  {
   "cell_type": "markdown",
   "id": "e1089bd2",
   "metadata": {},
   "source": [
    "### Import librairies"
   ]
  },
  {
   "cell_type": "code",
   "execution_count": null,
   "id": "5ee430d2",
   "metadata": {},
   "outputs": [],
   "source": [
    "#%matplotlib notebook\n",
    "\n",
    "import json\n",
    "import numpy as np\n",
    "import matplotlib.pyplot as plt\n",
    "\n",
    "from mpl_toolkits.axes_grid1 import make_axes_locatable\n",
    "from pathlib import Path\n",
    "from PIL import Image\n",
    "\n",
    "from mifobio.utils import multi_slice_viewer"
   ]
  },
  {
   "cell_type": "markdown",
   "id": "79f74ed4",
   "metadata": {},
   "source": [
    "###  Download data"
   ]
  },
  {
   "cell_type": "markdown",
   "id": "d77334ed",
   "metadata": {},
   "source": [
    "Click on [this link](https://filesender.renater.fr/?s=download&token=a2da1d1e-770f-4db5-9d7c-85c778751964) this link to download the json parameter file and the data (nmat=0), put both in the same directory, unzip it and fill below the path to the directory. For example:\n",
    "\n",
    "```\n",
    "$ tree\n",
    ".\n",
    "└── Desktop\n",
    "    └── MifobioA141\n",
    "        ├── 03-11-2023-mire-defoc.json\n",
    "        └── n_mat=0\n",
    "            └── Intensity00000000.tif\n",
    "            ...\n",
    "```"
   ]
  },
  {
   "cell_type": "code",
   "execution_count": null,
   "id": "5964ff6b",
   "metadata": {},
   "outputs": [],
   "source": [
    "directory = Path(\"/Users/orbitalclover/Desktop/MifobioA141\")\n",
    "name = \"Mire_focused_mifobio\"\n",
    "extension = \".json\"\n",
    "path_to_params = directory / (name + extension)\n",
    "  \n",
    "# Opening JSON file\n",
    "f = open(path_to_params)\n",
    "params = json.load(f)\n",
    "\n",
    "# Size of the images\n",
    "nx = params['nx']\n",
    "\n",
    "# Numerical Aperture\n",
    "na = params['na']"
   ]
  },
  {
   "cell_type": "code",
   "execution_count": null,
   "id": "22a829b4",
   "metadata": {},
   "outputs": [],
   "source": [
    "path_to_images = directory / \"n_mat=0\""
   ]
  },
  {
   "cell_type": "markdown",
   "id": "5dc239b0",
   "metadata": {},
   "source": [
    "## 4-phase interferometry"
   ]
  },
  {
   "cell_type": "markdown",
   "id": "d64ac27e",
   "metadata": {},
   "source": [
    "We start by using 4-phase interferometry to measure the electrical field $E_s$ from measures of intensity:\n",
    "\n",
    "$$\n",
    "\\begin{align}\n",
    "I(\\mathbf{r}, \\delta) &= |E_s(\\mathbf{r}) + E_r(\\mathbf{r}) e^{-2i \\frac{\\pi}{\\lambda}\\delta}|^2 \\\\\n",
    "              &= |E_s(\\mathbf{r})|^2 + 1 + 2Re\\left(E_s(\\mathbf{r}) e^{2i \\frac{\\pi}{\\lambda}\\delta} \\right)\n",
    "\\end{align}\n",
    "$$\n",
    "\n",
    "We measure the intensity for $\\delta = -\\lambda / 2, -\\lambda / 4, 0, \\lambda /4$. Let's first observe these four images."
   ]
  },
  {
   "cell_type": "code",
   "execution_count": null,
   "id": "fecb947a",
   "metadata": {},
   "outputs": [],
   "source": [
    "images = []\n",
    "illu = (params['n_uin'] - 1) // 2\n",
    "for i in range(4):\n",
    "    im = np.array(Image.open(path_to_images / f\"Intensity{illu * 4 + i:08}.tif\"))\n",
    "    images.append(im.astype(np.float32) / 255)"
   ]
  },
  {
   "cell_type": "code",
   "execution_count": null,
   "id": "710a4495",
   "metadata": {},
   "outputs": [],
   "source": [
    "plt.figure(figsize=(10, 8))\n",
    "plt.subplot(2, 2, 1)\n",
    "plt.imshow(images[0], cmap=\"gray\");\n",
    "plt.title(r\"Intensity shifted by $-\\lambda / 2$\");\n",
    "plt.subplot(2, 2, 2)\n",
    "plt.imshow(images[1], cmap=\"gray\");\n",
    "plt.title(r\"Intensity shifted by $-\\lambda / 4$\");\n",
    "plt.subplot(2, 2, 3)\n",
    "plt.imshow(images[2], cmap=\"gray\");\n",
    "plt.title(r\"Intensity (no shift)\");\n",
    "plt.subplot(2, 2, 4)\n",
    "plt.imshow(images[3], cmap=\"gray\");\n",
    "plt.title(r\"Intensity shifted by $\\lambda / 4$\");"
   ]
  },
  {
   "cell_type": "markdown",
   "id": "5ea0f44d",
   "metadata": {},
   "source": [
    "Using $E_s(\\mathbf{r}) = \\frac{1}{4}(I(\\mathbf{r}, -\\lambda / 2) - I(\\mathbf{r}, 0)) + i (I(\\mathbf{r}, -\\lambda / 4) - I(\\mathbf{r}, \\lambda / 4) )$, we retrieve the field and display its phase and intensity:"
   ]
  },
  {
   "cell_type": "code",
   "execution_count": null,
   "id": "0f0808dd",
   "metadata": {},
   "outputs": [],
   "source": [
    "central_field = (images[2] - images[0]) / 4 + 1j * (images[3] - images[1]) / 4\n",
    "\n",
    "fig, axs = plt.subplots(1, 2, figsize=(9, 5))\n",
    "ax = axs[0]\n",
    "divider = make_axes_locatable(ax)\n",
    "cax = divider.append_axes(\"right\", size=\"5%\", pad=0.05)\n",
    "im = ax.imshow(np.abs(central_field), cmap='gray');\n",
    "fig.colorbar(im, cax=cax);\n",
    "ax.title.set_text(f'Intensity')\n",
    "\n",
    "ax = axs[1]\n",
    "divider = make_axes_locatable(ax)\n",
    "cax = divider.append_axes(\"right\", size=\"5%\", pad=0.05)\n",
    "im = ax.imshow(np.angle(central_field), cmap=\"twilight_shifted\");\n",
    "fig.colorbar(im, cax=cax);\n",
    "ax.title.set_text(f'Phase')"
   ]
  },
  {
   "cell_type": "markdown",
   "id": "a395b282",
   "metadata": {},
   "source": [
    "## Illumination Compound"
   ]
  },
  {
   "cell_type": "markdown",
   "id": "be4ed54f",
   "metadata": {},
   "source": [
    "In the above, we considered a plane wave with normal incidence, that sheds light on the central components of the Fourier transform of the sample. We thus call this the central illumination, and perform a fast Fourier transform of $E$:"
   ]
  },
  {
   "cell_type": "code",
   "execution_count": null,
   "id": "9b14b817",
   "metadata": {},
   "outputs": [],
   "source": [
    "central_field_ft = np.fft.fftshift(np.fft.fft2(central_field))\n",
    "central_field_ft = central_field_ft / np.max(np.abs(central_field_ft))\n",
    "\n",
    "_, axs = plt.subplots(1, 2, figsize=(9, 5))\n",
    "ax = axs[0]\n",
    "ax.imshow(np.abs(central_field), cmap='gray')\n",
    "ax.set_xlabel('x')\n",
    "ax.set_ylabel('y')\n",
    "ax.title.set_text(f'Field amplitude')\n",
    "ax = axs[1]\n",
    "ax.imshow(20*np.log10(np.abs(central_field_ft)), vmin=-80, cmap='gray')\n",
    "ax.set_xlabel('x')\n",
    "ax.set_ylabel('y')\n",
    "ax.title.set_text(f'Field Fourier Amplitude')\n",
    "\n",
    "pupil = plt.Circle((nx / 2, nx / 2), nx / 3.3, color='yellow', fill=False);\n",
    "ax.add_patch(pupil);"
   ]
  },
  {
   "cell_type": "markdown",
   "id": "765bddf8",
   "metadata": {},
   "source": [
    "Let's now look at another illumination, with non normal incidence and display it's intensity and Fourier transform:"
   ]
  },
  {
   "cell_type": "code",
   "execution_count": null,
   "id": "850cb0ea",
   "metadata": {},
   "outputs": [],
   "source": [
    "images = []\n",
    "illu = 3\n",
    "for i in range(4):\n",
    "    im = np.array(Image.open(path_to_images / f\"Intensity{illu * 4 + i:08}.tif\"))\n",
    "    images.append(im.astype(np.float32) / 255)\n",
    "    \n",
    "tilted_field = (images[2] - images[0]) / 4 + 1j * (images[3] - images[1]) / 4"
   ]
  },
  {
   "cell_type": "code",
   "execution_count": null,
   "id": "8f5cd974",
   "metadata": {},
   "outputs": [],
   "source": [
    "tilted_field_ft = np.fft.fftshift(np.fft.fft2(tilted_field))\n",
    "tilted_field_ft = tilted_field_ft / np.max(np.abs(tilted_field_ft))\n",
    "\n",
    "\n",
    "uy, ux = params['uy'][illu], params['ux'][illu]\n",
    "pupil_factor = 0.6\n",
    "uy, ux = pupil_factor * uy, pupil_factor * ux\n",
    "\n",
    "_, axs = plt.subplots(1, 2, figsize=(9, 5))\n",
    "ax = axs[0]\n",
    "ax.imshow(np.abs(tilted_field), cmap='gray')\n",
    "ax.set_xlabel('x')\n",
    "ax.set_ylabel('y')\n",
    "ax.title.set_text(f'Field amplitude')\n",
    "ax = axs[1]\n",
    "ax.imshow(20*np.log10(np.abs(tilted_field_ft)), vmin=-80, cmap='gray')\n",
    "ax.set_xlabel('x')\n",
    "ax.set_ylabel('y')\n",
    "ax.title.set_text(f'Field Fourier Amplitude')\n",
    "\n",
    "pupil = plt.Circle((nx / 2 + ux * nx, nx / 2 - uy * nx), nx / 3.3, color='yellow', fill=False);\n",
    "ax.add_patch(pupil);"
   ]
  },
  {
   "cell_type": "markdown",
   "id": "da502adb",
   "metadata": {},
   "source": [
    "If we combine different illluminations, we obtain an improved resolution. Let's thus load and compute the field for all the illuminations on a grid. We call this the distortion matrix, `dur`"
   ]
  },
  {
   "cell_type": "code",
   "execution_count": null,
   "id": "addc7669",
   "metadata": {},
   "outputs": [],
   "source": [
    "dur = []\n",
    "\n",
    "for illu in range(params['n_uin']):\n",
    "    \n",
    "    images = []\n",
    "\n",
    "\n",
    "    for i in range(4):\n",
    "        im = np.array(Image.open(path_to_images / f\"Intensity{illu * 4 + i:08}.tif\"))\n",
    "        images.append(im.astype(np.float32) / 255)\n",
    "    field = (images[2] - images[0]) / 4 + 1j * (images[3] - images[1]) / 4\n",
    "    \n",
    "    dur.append(field)\n",
    "\n",
    "dur = np.stack(dur)"
   ]
  },
  {
   "cell_type": "markdown",
   "id": "5a38c529",
   "metadata": {},
   "source": [
    "The simplest way to combine these is to sum all the fields. We call this the confocal image."
   ]
  },
  {
   "cell_type": "code",
   "execution_count": null,
   "id": "7b832e78",
   "metadata": {},
   "outputs": [],
   "source": [
    "im_conf = dur.sum(0)"
   ]
  },
  {
   "cell_type": "code",
   "execution_count": null,
   "id": "082f95f3",
   "metadata": {},
   "outputs": [],
   "source": [
    "im_conf_ft = np.fft.fftshift(np.fft.fft2(im_conf))\n",
    "im_conf_ft = im_conf_ft / np.max(np.abs(im_conf_ft))\n",
    "\n",
    "_, axs = plt.subplots(1, 2, figsize=(9, 5))\n",
    "ax = axs[0]\n",
    "ax.imshow(np.abs(im_conf), cmap='gray')\n",
    "ax.set_xlabel('x')\n",
    "ax.set_ylabel('y')\n",
    "ax.title.set_text(f'Illumination compound amplitude')\n",
    "ax = axs[1]\n",
    "ax.imshow(20*np.log10(np.abs(im_conf_ft)), vmin=-100, cmap='gray')\n",
    "ax.set_xlabel('x')\n",
    "ax.set_ylabel('y')\n",
    "ax.title.set_text(f'Illumination compound phase')"
   ]
  },
  {
   "cell_type": "markdown",
   "id": "55564695",
   "metadata": {},
   "source": [
    "But the image is blurred because it was out of focus! Let's make up for this."
   ]
  },
  {
   "cell_type": "markdown",
   "id": "0950c662",
   "metadata": {},
   "source": [
    "## Digital Refocusing"
   ]
  },
  {
   "cell_type": "markdown",
   "id": "79ebf321",
   "metadata": {},
   "source": [
    "As we have measured the field, we can apply a propagator to virtually move the position of the focal plane. This amounts to computing a phase-shift mask to apply in the Fourier plane. Let $k_x$ and $k_y$ span this plane, i.e. represent the spatial frequencies that are sampled in our image.\n",
    "\n",
    "Let's come back to a single illumination with normal incidence ot begin. The mask depends on the wave vectors ($k_{z_{out}}$), and the distance between the optical contact and the object ($z$):\n",
    "\n",
    "$$\n",
    "\\phi(z) = \\exp\\left( -j k_{z_{out}} z \\right)\n",
    "$$\n",
    "\n",
    "where $k_{z_{out}} = \\sqrt{k_0^2 - k_x ^2 - k_y ^2}$."
   ]
  },
  {
   "cell_type": "code",
   "execution_count": null,
   "id": "a7080204-1ea6-4979-a83c-4eb2002c0298",
   "metadata": {},
   "outputs": [],
   "source": [
    "name = \"Mire_defocused_mifobio\"\n",
    "extension = \".json\"\n",
    "path_to_params = directory / (name + extension)\n",
    "  \n",
    "# Opening JSON file\n",
    "f = open(path_to_params)\n",
    "params = json.load(f)\n",
    "\n",
    "path_to_images = directory / \"n_mat=0-2\""
   ]
  },
  {
   "cell_type": "code",
   "execution_count": null,
   "id": "0e899843",
   "metadata": {},
   "outputs": [],
   "source": [
    "# Fourier plane coordinates\n",
    "lambda_c = 840e-9\n",
    "k0 = 2 * np.pi / lambda_c\n",
    "\n",
    "n = 1.\n",
    "dx = 650e-9\n",
    "dkx = 2 * np.pi / (nx * dx)\n",
    "\n",
    "bound = (nx - 1) / 2 * dkx\n",
    "kx = np.linspace(-bound, bound, nx)\n",
    "ky = np.linspace(bound, -bound, nx)"
   ]
  },
  {
   "cell_type": "code",
   "execution_count": null,
   "id": "2fe59f8e-8d81-4140-9e5e-0eec6c4c8893",
   "metadata": {},
   "outputs": [],
   "source": [
    "images = []\n",
    "illu = (params['n_uin'] - 1) // 2\n",
    "for i in range(4):\n",
    "    im = np.array(Image.open(path_to_images / f\"Intensity{illu * 4 + i:08}.tif\"))\n",
    "    images.append(im.astype(np.float32) / 255)\n",
    "central_field = (images[2] - images[0]) / 4 + 1j * (images[3] - images[1]) / 4"
   ]
  },
  {
   "cell_type": "code",
   "execution_count": null,
   "id": "ece24272",
   "metadata": {},
   "outputs": [],
   "source": [
    "k_transverse = kx[None, :]**2 + ky[:, None]**2\n",
    "kz_out = np.sqrt(np.maximum(0, k0**2 - k_transverse)) # Careful with negative values\n",
    "pupile = k_transverse < na**2 * k0**2 # Pupil aperture\n",
    "kz_out = np.where(pupile, kz_out, 0) # Filter phase by pupil aperture"
   ]
  },
  {
   "cell_type": "code",
   "execution_count": null,
   "id": "75a2a60e",
   "metadata": {},
   "outputs": [],
   "source": [
    "z = -50e-6\n",
    "fresnel = np.exp(-1j * kz_out * z) * pupile # Filter amplitude by pupil aperture\n",
    "field_kxky = np.fft.fftshift(np.fft.fft2(central_field))\n",
    "central_refoc = np.fft.ifft2(field_kxky * fresnel) # Apply the Fresnel mask"
   ]
  },
  {
   "cell_type": "code",
   "execution_count": null,
   "id": "3f9ecd55",
   "metadata": {},
   "outputs": [],
   "source": [
    "from mpl_toolkits.axes_grid1 import make_axes_locatable\n",
    "\n",
    "fig, axs = plt.subplots(1, 3, figsize=(9, 5))\n",
    "\n",
    "ax = axs[0]\n",
    "divider = make_axes_locatable(ax)\n",
    "cax = divider.append_axes(\"right\", size=\"5%\", pad=0.05)\n",
    "im = ax.imshow(np.abs(central_field), aspect='equal', cmap='gray')\n",
    "fig.colorbar(im, cax=cax)\n",
    "ax.set_xlabel('x')\n",
    "ax.set_ylabel('y')\n",
    "ax.title.set_text(f'Initial field')\n",
    "\n",
    "ax = axs[1]\n",
    "divider = make_axes_locatable(ax)\n",
    "cax = divider.append_axes(\"right\", size=\"5%\", pad=0.05)\n",
    "im = ax.imshow(np.angle(fresnel), aspect='equal', cmap='twilight')\n",
    "fig.colorbar(im, cax=cax)\n",
    "ax.set_xlabel('x')\n",
    "ax.set_ylabel('y')\n",
    "ax.title.set_text(f'Fresnel Rings')\n",
    "\n",
    "ax = axs[2]\n",
    "divider = make_axes_locatable(ax)\n",
    "cax = divider.append_axes(\"right\", size=\"5%\", pad=0.05)\n",
    "im = ax.imshow(np.abs(central_refoc), aspect='equal', cmap='gray')\n",
    "fig.colorbar(im, cax=cax)\n",
    "ax.set_xlabel('x')\n",
    "ax.set_ylabel('y')\n",
    "ax.title.set_text(f'Refocused field')\n",
    "\n",
    "plt.tight_layout()\n",
    "plt.show()"
   ]
  },
  {
   "cell_type": "markdown",
   "id": "e7fd4b24",
   "metadata": {},
   "source": [
    "Ok, now we need to find the right distance $z$, so let's try different values and compare the results. Modify `list_z` to decide the values to test"
   ]
  },
  {
   "cell_type": "code",
   "execution_count": null,
   "id": "a11ee06c",
   "metadata": {},
   "outputs": [],
   "source": [
    "list_z = np.linspace(-60e-6, -40e-6, 11)\n",
    "refocs = []\n",
    "for z in list_z:\n",
    "    fresnel = np.exp(-1j * kz_out * z)\n",
    "    field_kxky = np.fft.fftshift(np.fft.fft2(central_field))\n",
    "    central_refoc = np.fft.ifft2(field_kxky * fresnel)\n",
    "    refocs.append(np.abs(central_refoc))"
   ]
  },
  {
   "cell_type": "code",
   "execution_count": null,
   "id": "d48e64b9",
   "metadata": {
    "scrolled": true
   },
   "outputs": [],
   "source": [
    "# Press j/k to scroll\n",
    "multi_slice_viewer(np.stack(refocs, axis=-1), cmap=\"gray\")"
   ]
  },
  {
   "cell_type": "code",
   "execution_count": null,
   "id": "5002ea95",
   "metadata": {},
   "outputs": [],
   "source": [
    "# Select the best index from above\n",
    "z = list_z[5]\n",
    "print(z)"
   ]
  },
  {
   "cell_type": "markdown",
   "id": "95726c36",
   "metadata": {},
   "source": [
    "Let's now look at a different illumination. In this case, we need to account for the incident angle, described in the pupil plane by the couple $(u_x, u_y) \\in [-NA, NA]$. At emission we use $k_{z_{in}}$ and at reception $k_{z_{out}}$ becomes:\n",
    "\n",
    "$$\n",
    "\\begin{align}\n",
    "k_{z_{in}} &= k_0\\sqrt{1 - u_x^2 - u_y^2} \\\\\n",
    "k_{z_{out}} &= \\sqrt{k_0^2 - (k_x - u_x k_0)^2 - (k_y - u_y k_0)^2}\n",
    "\\end{align}\n",
    "$$\n",
    "\n",
    "And the Fresnel mask becomes:\n",
    "\n",
    "$$\n",
    "\\phi(z) = \\exp\\left( -j (k_{z_{in}} + k_{z_{out}} ) z \\right)\n",
    "$$"
   ]
  },
  {
   "cell_type": "code",
   "execution_count": null,
   "id": "6ca19549",
   "metadata": {},
   "outputs": [],
   "source": [
    "illu = 3\n",
    "\n",
    "images = []\n",
    "for i in range(4):\n",
    "    im = np.array(Image.open(path_to_images / f\"Intensity{illu * 4 + i:08}.tif\"))\n",
    "    images.append(im.astype(np.float32) / 255)\n",
    "tilted_field = (images[2] - images[0]) / 4 + 1j * (images[3] - images[1]) / 4\n",
    "\n",
    "uy, ux = params['uy'][illu], params['ux'][illu]\n",
    "pupil_factor = 0.6 # Corrects for the range covered by the mirror at acquisition.\n",
    "uy, ux = pupil_factor * uy, pupil_factor * ux\n",
    "\n",
    "kz_in = k0 * np.sqrt(n**2 - ux**2 - uy**2)\n",
    "\n",
    "k_transverse = (kx[None, :] - k0 * ux)**2 + (ky[:, None] - k0 * uy)**2\n",
    "kz_out = np.sqrt(np.maximum(0, k0**2 - k_transverse)) # Careful with negative values\n",
    "pupil = k_transverse < na**2 * k0**2 # Pupil aperture\n",
    "kz_out = np.where(pupil, kz_out, 0) # Filter by pupil"
   ]
  },
  {
   "cell_type": "code",
   "execution_count": null,
   "id": "fd629b8f",
   "metadata": {},
   "outputs": [],
   "source": [
    "fresnel = np.exp(-1j * (kz_in + kz_out) * z) * pupil # Filter by pupil\n",
    "field_kxky = np.fft.fftshift(np.fft.fft2(tilted_field)) # Fourier transform\n",
    "central_refoc = np.fft.ifft2(field_kxky * fresnel) # Apply mask"
   ]
  },
  {
   "cell_type": "code",
   "execution_count": null,
   "id": "5e5bc677",
   "metadata": {},
   "outputs": [],
   "source": [
    "from mpl_toolkits.axes_grid1 import make_axes_locatable\n",
    "\n",
    "fig, axs = plt.subplots(1, 3, figsize=(9, 5))\n",
    "\n",
    "ax = axs[0]\n",
    "divider = make_axes_locatable(ax)\n",
    "cax = divider.append_axes(\"right\", size=\"5%\", pad=0.05)\n",
    "im = ax.imshow(np.abs(central_field), aspect='equal', cmap='gray')\n",
    "fig.colorbar(im, cax=cax)\n",
    "ax.set_xlabel('x')\n",
    "ax.set_ylabel('y')\n",
    "ax.title.set_text(f'Initial field')\n",
    "\n",
    "ax = axs[1]\n",
    "divider = make_axes_locatable(ax)\n",
    "cax = divider.append_axes(\"right\", size=\"5%\", pad=0.05)\n",
    "im = ax.imshow(np.angle(fresnel), aspect='equal', cmap='twilight')\n",
    "fig.colorbar(im, cax=cax)\n",
    "ax.set_xlabel('x')\n",
    "ax.set_ylabel('y')\n",
    "ax.title.set_text(f'Fresnel rings')\n",
    "\n",
    "ax = axs[2]\n",
    "divider = make_axes_locatable(ax)\n",
    "cax = divider.append_axes(\"right\", size=\"5%\", pad=0.05)\n",
    "im = ax.imshow(np.abs(central_refoc), aspect='equal', cmap='gray')\n",
    "fig.colorbar(im, cax=cax)\n",
    "ax.set_xlabel('x')\n",
    "ax.set_ylabel('y')\n",
    "ax.title.set_text(f'Refocused field')\n",
    "\n",
    "plt.tight_layout()\n",
    "plt.show()"
   ]
  },
  {
   "cell_type": "markdown",
   "id": "a001559d",
   "metadata": {},
   "source": [
    "We're now ready to use all the illumination. Each are refocused individually, and then a confocal image is obtained by suming all the refocused illuminations."
   ]
  },
  {
   "cell_type": "code",
   "execution_count": null,
   "id": "748126c6",
   "metadata": {},
   "outputs": [],
   "source": [
    "dur = []\n",
    "\n",
    "for illu in range(1, params['n_uin']):\n",
    "    \n",
    "    images = []\n",
    "    \n",
    "    for i in range(4):\n",
    "        im = np.array(Image.open(path_to_images / f\"Intensity{illu * 4 + i:08}.tif\"))\n",
    "        images.append(im.astype(np.float32) / 255)\n",
    "    field = (images[2] - images[0]) / 4 + 1j * (images[3] - images[1]) / 4\n",
    "    \n",
    "    uy, ux = pupil_factor * params['uy'][illu], pupil_factor * params['ux'][illu]\n",
    "    kz_in = k0 * np.sqrt(n**2 - ux**2 - uy**2)\n",
    "    k_transverse = (kx[None, :] - k0 * ux)**2 + (ky[:, None] - k0 * uy)**2\n",
    "    kz_out = np.sqrt(np.maximum(0, n**2 * k0**2 - k_transverse))\n",
    "    pupil = k_transverse < na**2 * k0**2\n",
    "    kz_out = np.where(pupil, kz_out, 0)\n",
    "    \n",
    "    fresnel = np.exp(-1j * (kz_in + kz_out) * z) * pupil\n",
    "    field_kxky = np.fft.fftshift(np.fft.fft2(field))\n",
    "    refoc = np.fft.ifft2(field_kxky * fresnel)\n",
    "    dur.append(refoc)\n",
    "\n",
    "dur = np.stack(dur)"
   ]
  },
  {
   "cell_type": "code",
   "execution_count": null,
   "id": "6b7578e9",
   "metadata": {},
   "outputs": [],
   "source": [
    "im_conf = dur.sum(0)\n",
    "im_bulk = np.abs(dur).sum(0)"
   ]
  },
  {
   "cell_type": "code",
   "execution_count": null,
   "id": "db6d4d8b",
   "metadata": {},
   "outputs": [],
   "source": [
    "fig, axs = plt.subplots(1, 2, figsize=(9, 5))\n",
    "\n",
    "ax = axs[0]\n",
    "divider = make_axes_locatable(ax)\n",
    "cax = divider.append_axes(\"right\", size=\"5%\", pad=0.05)\n",
    "im = ax.imshow(np.abs(im_conf), aspect='equal', cmap=\"gray\")\n",
    "fig.colorbar(im, cax=cax)\n",
    "ax.set_xlabel('x')\n",
    "ax.set_ylabel('y')\n",
    "ax.title.set_text(f'Confocal Image')\n",
    "\n",
    "ax = axs[1]\n",
    "divider = make_axes_locatable(ax)\n",
    "cax = divider.append_axes(\"right\", size=\"5%\", pad=0.05)\n",
    "im = ax.imshow(np.abs(im_bulk), aspect='equal', cmap=\"gray\")\n",
    "fig.colorbar(im, cax=cax)\n",
    "ax.set_xlabel('x')\n",
    "ax.set_ylabel('y')\n",
    "ax.title.set_text(f'Bulk Image')\n",
    "\n",
    "plt.tight_layout()\n",
    "plt.show()"
   ]
  },
  {
   "cell_type": "code",
   "execution_count": null,
   "id": "b4abd9d2",
   "metadata": {},
   "outputs": [],
   "source": []
  },
  {
   "cell_type": "code",
   "execution_count": null,
   "id": "dbde0dfd-ae16-40d4-8740-5af93ea9a99b",
   "metadata": {},
   "outputs": [],
   "source": []
  },
  {
   "cell_type": "code",
   "execution_count": null,
   "id": "2f2e00f4-1ce8-49bb-8c8c-816fddc3ea15",
   "metadata": {},
   "outputs": [],
   "source": []
  },
  {
   "cell_type": "code",
   "execution_count": null,
   "id": "6bb22e16-d545-4657-b4a5-e10d44cd841e",
   "metadata": {},
   "outputs": [],
   "source": []
  }
 ],
 "metadata": {
  "kernelspec": {
   "display_name": "Python 3 (ipykernel)",
   "language": "python",
   "name": "python3"
  },
  "language_info": {
   "codemirror_mode": {
    "name": "ipython",
    "version": 3
   },
   "file_extension": ".py",
   "mimetype": "text/x-python",
   "name": "python",
   "nbconvert_exporter": "python",
   "pygments_lexer": "ipython3",
   "version": "3.10.11"
  }
 },
 "nbformat": 4,
 "nbformat_minor": 5
}
